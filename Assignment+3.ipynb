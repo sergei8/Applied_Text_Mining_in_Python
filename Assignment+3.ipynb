{
 "cells": [
  {
   "cell_type": "markdown",
   "metadata": {},
   "source": [
    "---\n",
    "\n",
    "_You are currently looking at **version 1.1** of this notebook. To download notebooks and datafiles, as well as get help on Jupyter notebooks in the Coursera platform, visit the [Jupyter Notebook FAQ](https://www.coursera.org/learn/python-text-mining/resources/d9pwm) course resource._\n",
    "\n",
    "---"
   ]
  },
  {
   "cell_type": "markdown",
   "metadata": {},
   "source": [
    "# Assignment 3\n",
    "\n",
    "In this assignment you will explore text message data and create models to predict if a message is spam or not. "
   ]
  },
  {
   "cell_type": "code",
   "execution_count": 3,
   "metadata": {},
   "outputs": [
    {
     "data": {
      "text/html": [
       "<div>\n",
       "<style>\n",
       "    .dataframe thead tr:only-child th {\n",
       "        text-align: right;\n",
       "    }\n",
       "\n",
       "    .dataframe thead th {\n",
       "        text-align: left;\n",
       "    }\n",
       "\n",
       "    .dataframe tbody tr th {\n",
       "        vertical-align: top;\n",
       "    }\n",
       "</style>\n",
       "<table border=\"1\" class=\"dataframe\">\n",
       "  <thead>\n",
       "    <tr style=\"text-align: right;\">\n",
       "      <th></th>\n",
       "      <th>text</th>\n",
       "      <th>target</th>\n",
       "    </tr>\n",
       "  </thead>\n",
       "  <tbody>\n",
       "    <tr>\n",
       "      <th>0</th>\n",
       "      <td>Go until jurong point, crazy.. Available only ...</td>\n",
       "      <td>0</td>\n",
       "    </tr>\n",
       "    <tr>\n",
       "      <th>1</th>\n",
       "      <td>Ok lar... Joking wif u oni...</td>\n",
       "      <td>0</td>\n",
       "    </tr>\n",
       "    <tr>\n",
       "      <th>2</th>\n",
       "      <td>Free entry in 2 a wkly comp to win FA Cup fina...</td>\n",
       "      <td>1</td>\n",
       "    </tr>\n",
       "    <tr>\n",
       "      <th>3</th>\n",
       "      <td>U dun say so early hor... U c already then say...</td>\n",
       "      <td>0</td>\n",
       "    </tr>\n",
       "    <tr>\n",
       "      <th>4</th>\n",
       "      <td>Nah I don't think he goes to usf, he lives aro...</td>\n",
       "      <td>0</td>\n",
       "    </tr>\n",
       "    <tr>\n",
       "      <th>5</th>\n",
       "      <td>FreeMsg Hey there darling it's been 3 week's n...</td>\n",
       "      <td>1</td>\n",
       "    </tr>\n",
       "    <tr>\n",
       "      <th>6</th>\n",
       "      <td>Even my brother is not like to speak with me. ...</td>\n",
       "      <td>0</td>\n",
       "    </tr>\n",
       "    <tr>\n",
       "      <th>7</th>\n",
       "      <td>As per your request 'Melle Melle (Oru Minnamin...</td>\n",
       "      <td>0</td>\n",
       "    </tr>\n",
       "    <tr>\n",
       "      <th>8</th>\n",
       "      <td>WINNER!! As a valued network customer you have...</td>\n",
       "      <td>1</td>\n",
       "    </tr>\n",
       "    <tr>\n",
       "      <th>9</th>\n",
       "      <td>Had your mobile 11 months or more? U R entitle...</td>\n",
       "      <td>1</td>\n",
       "    </tr>\n",
       "  </tbody>\n",
       "</table>\n",
       "</div>"
      ],
      "text/plain": [
       "                                                text  target\n",
       "0  Go until jurong point, crazy.. Available only ...       0\n",
       "1                      Ok lar... Joking wif u oni...       0\n",
       "2  Free entry in 2 a wkly comp to win FA Cup fina...       1\n",
       "3  U dun say so early hor... U c already then say...       0\n",
       "4  Nah I don't think he goes to usf, he lives aro...       0\n",
       "5  FreeMsg Hey there darling it's been 3 week's n...       1\n",
       "6  Even my brother is not like to speak with me. ...       0\n",
       "7  As per your request 'Melle Melle (Oru Minnamin...       0\n",
       "8  WINNER!! As a valued network customer you have...       1\n",
       "9  Had your mobile 11 months or more? U R entitle...       1"
      ]
     },
     "execution_count": 3,
     "metadata": {},
     "output_type": "execute_result"
    }
   ],
   "source": [
    "import pandas as pd\n",
    "import numpy as np\n",
    "\n",
    "spam_data = pd.read_csv('spam.csv')\n",
    "\n",
    "spam_data['target'] = np.where(spam_data['target']=='spam',1,0)\n",
    "spam_data.head(10)"
   ]
  },
  {
   "cell_type": "code",
   "execution_count": 4,
   "metadata": {
    "collapsed": true
   },
   "outputs": [],
   "source": [
    "from sklearn.model_selection import train_test_split\n",
    "\n",
    "\n",
    "X_train, X_test, y_train, y_test = train_test_split(spam_data['text'], \n",
    "                                                    spam_data['target'], \n",
    "                                                    random_state=0)"
   ]
  },
  {
   "cell_type": "markdown",
   "metadata": {},
   "source": [
    "### Question 1\n",
    "What percentage of the documents in `spam_data` are spam?\n",
    "\n",
    "*This function should return a float, the percent value (i.e. $ratio * 100$).*"
   ]
  },
  {
   "cell_type": "code",
   "execution_count": 5,
   "metadata": {
    "collapsed": true
   },
   "outputs": [],
   "source": [
    "def answer_one():\n",
    "    \n",
    "    \n",
    "    return spam_data['target'].sum() / len(spam_data) * 100"
   ]
  },
  {
   "cell_type": "code",
   "execution_count": 6,
   "metadata": {},
   "outputs": [
    {
     "data": {
      "text/plain": [
       "13.406317300789663"
      ]
     },
     "execution_count": 6,
     "metadata": {},
     "output_type": "execute_result"
    }
   ],
   "source": [
    "answer_one()"
   ]
  },
  {
   "cell_type": "markdown",
   "metadata": {},
   "source": [
    "### Question 2\n",
    "\n",
    "Fit the training data `X_train` using a Count Vectorizer with default parameters.\n",
    "\n",
    "What is the longest token in the vocabulary?\n",
    "\n",
    "*This function should return a string.*"
   ]
  },
  {
   "cell_type": "code",
   "execution_count": 7,
   "metadata": {
    "collapsed": true
   },
   "outputs": [],
   "source": [
    "def answer_two():\n",
    "    \n",
    "    from sklearn.feature_extraction.text import CountVectorizer\n",
    "    \n",
    "    vocab = CountVectorizer().fit(X_train).get_feature_names()\n",
    "    result = sorted(vocab, key=lambda x: len(x), reverse=True)[0]\n",
    "    \n",
    "    return result"
   ]
  },
  {
   "cell_type": "code",
   "execution_count": 8,
   "metadata": {},
   "outputs": [
    {
     "data": {
      "text/plain": [
       "'com1win150ppmx3age16subscription'"
      ]
     },
     "execution_count": 8,
     "metadata": {},
     "output_type": "execute_result"
    }
   ],
   "source": [
    "answer_two()"
   ]
  },
  {
   "cell_type": "markdown",
   "metadata": {},
   "source": [
    "### Question 3\n",
    "\n",
    "Fit and transform the training data `X_train` using a Count Vectorizer with default parameters.\n",
    "\n",
    "Next, fit a fit a multinomial Naive Bayes classifier model with smoothing `alpha=0.1`. Find the area under the curve (AUC) score using the transformed test data.\n",
    "\n",
    "*This function should return the AUC score as a float.*"
   ]
  },
  {
   "cell_type": "code",
   "execution_count": 9,
   "metadata": {
    "collapsed": true
   },
   "outputs": [],
   "source": [
    "def answer_three():\n",
    "    \n",
    "    from sklearn.naive_bayes import MultinomialNB\n",
    "    from sklearn.metrics import roc_auc_score\n",
    "    from sklearn.feature_extraction.text import CountVectorizer\n",
    "    \n",
    "    # build Bag Of Words object from the train set\n",
    "    vect = CountVectorizer().fit(X_train)\n",
    "    \n",
    "    # convert train set into sparse matrix based on Bag_Of_Words (vect)\n",
    "    X_train_vectorized = vect.transform(X_train)\n",
    "\n",
    "    # fit trainig set on multinominal classifier\n",
    "    clf = MultinomialNB(alpha=.1)\n",
    "    model = clf.fit(X_train_vectorized, y_train)\n",
    "    \n",
    "    # convert test set into sparse matrix based on `vect`\n",
    "    X_test_vectorized = vect.transform(X_test)\n",
    "    \n",
    "    # predict test set \n",
    "    predictions = model.predict(X_test_vectorized)\n",
    "    \n",
    "    # evaluate predictions on AUC metrics\n",
    "    score = roc_auc_score(y_test, predictions)\n",
    "    \n",
    "    \n",
    "    return score"
   ]
  },
  {
   "cell_type": "code",
   "execution_count": 10,
   "metadata": {},
   "outputs": [
    {
     "data": {
      "text/plain": [
       "0.97208121827411165"
      ]
     },
     "execution_count": 10,
     "metadata": {},
     "output_type": "execute_result"
    }
   ],
   "source": [
    "answer_three()"
   ]
  },
  {
   "cell_type": "markdown",
   "metadata": {},
   "source": [
    "### Question 4\n",
    "\n",
    "Fit and transform the training data `X_train` using a Tfidf Vectorizer with default parameters.\n",
    "\n",
    "What 20 features have the smallest tf-idf and what 20 have the largest tf-idf?\n",
    "\n",
    "Put these features in a two series where each series is sorted by tf-idf value and then alphabetically by feature name. The index of the series should be the feature name, and the data should be the tf-idf.\n",
    "\n",
    "The series of 20 features with smallest tf-idfs should be sorted smallest tfidf first, the list of 20 features with largest tf-idfs should be sorted largest first. \n",
    "\n",
    "*This function should return a tuple of two series\n",
    "`(smallest tf-idfs series, largest tf-idfs series)`.*"
   ]
  },
  {
   "cell_type": "code",
   "execution_count": 11,
   "metadata": {
    "collapsed": true
   },
   "outputs": [],
   "source": [
    "def answer_four():\n",
    "    \n",
    "    from sklearn.feature_extraction.text import TfidfVectorizer\n",
    "    import numpy as np\n",
    "    \n",
    "    # build a vectorized  train set\n",
    "    vect = TfidfVectorizer().fit(X_train)\n",
    "    \n",
    "    # create vocabulary of train set\n",
    "    vocab = vect.get_feature_names()\n",
    "\n",
    "    # transform vector into sparse martice\n",
    "    X_train_vectorized = vect.transform(X_train)\n",
    "    \n",
    "    # calculate a sum of tf_idf per feature (by column)\n",
    "    tf_idf = X_train_vectorized.max(axis=0)\n",
    "    \n",
    "    # convert tf_idf numbers to list\n",
    "    tf_idf_list = tf_idf.toarray().tolist()[0]\n",
    "    \n",
    "    # sort `tf_idf_list` by indexes\n",
    "    tf_idf_list_sort_idx = np.argsort(tf_idf_list)\n",
    "    \n",
    "    # create list of tuples (feature, tf_idf)\n",
    "    tf_idf_sorted = []\n",
    "    for idx in tf_idf_list_sort_idx:\n",
    "        tf_idf_sorted.append((vocab[idx],tf_idf_list[idx]))\n",
    "        \n",
    "    # extract 20 lagest and smallest featureres\n",
    "    max_20_tf_idf = tf_idf_sorted[-20:]\n",
    "    min_20_tf_idf = tf_idf_sorted[: 20]\n",
    "    \n",
    "    # create Series from extracted lists of tuples (feature - index, tf_idf - value)\n",
    "    min_20_ser = pd.Series(dict(min_20_tf_idf))\n",
    "    max_20_ser = pd.Series(dict(max_20_tf_idf))\n",
    "    \n",
    "    # sort series\n",
    "    max_20_ser_sorted = max_20_ser[np.lexsort((max_20_ser.index, -max_20_ser.values))]\n",
    "    min_20_ser_sorted = min_20_ser[np.lexsort((min_20_ser.index, min_20_ser.values))]\n",
    "    \n",
    "    return (min_20_ser_sorted, max_20_ser_sorted)"
   ]
  },
  {
   "cell_type": "code",
   "execution_count": 12,
   "metadata": {},
   "outputs": [
    {
     "data": {
      "text/plain": [
       "(aaniye          0.074475\n",
       " athletic        0.074475\n",
       " chef            0.074475\n",
       " companion       0.074475\n",
       " courageous      0.074475\n",
       " dependable      0.074475\n",
       " determined      0.074475\n",
       " exterminator    0.074475\n",
       " healer          0.074475\n",
       " listener        0.074475\n",
       " organizer       0.074475\n",
       " pest            0.074475\n",
       " psychiatrist    0.074475\n",
       " psychologist    0.074475\n",
       " pudunga         0.074475\n",
       " stylist         0.074475\n",
       " sympathetic     0.074475\n",
       " venaam          0.074475\n",
       " diwali          0.091250\n",
       " mornings        0.091250\n",
       " dtype: float64, 146tf150p    1.000000\n",
       " 645          1.000000\n",
       " anything     1.000000\n",
       " anytime      1.000000\n",
       " beerage      1.000000\n",
       " done         1.000000\n",
       " er           1.000000\n",
       " havent       1.000000\n",
       " home         1.000000\n",
       " lei          1.000000\n",
       " nite         1.000000\n",
       " ok           1.000000\n",
       " okie         1.000000\n",
       " thank        1.000000\n",
       " thanx        1.000000\n",
       " too          1.000000\n",
       " where        1.000000\n",
       " yup          1.000000\n",
       " tick         0.980166\n",
       " blank        0.932702\n",
       " dtype: float64)"
      ]
     },
     "execution_count": 12,
     "metadata": {},
     "output_type": "execute_result"
    }
   ],
   "source": [
    "answer_four()"
   ]
  },
  {
   "cell_type": "markdown",
   "metadata": {},
   "source": [
    "### Question 5\n",
    "\n",
    "Fit and transform the training data `X_train` using a Tfidf Vectorizer ignoring terms that have a document frequency strictly lower than **3**.\n",
    "\n",
    "Then fit a multinomial Naive Bayes classifier model with smoothing `alpha=0.1` and compute the area under the curve (AUC) score using the transformed test data.\n",
    "\n",
    "*This function should return the AUC score as a float.*"
   ]
  },
  {
   "cell_type": "code",
   "execution_count": 13,
   "metadata": {
    "collapsed": true
   },
   "outputs": [],
   "source": [
    "def answer_five():\n",
    "    \n",
    "    from sklearn.feature_extraction.text import TfidfVectorizer\n",
    "    from sklearn.naive_bayes import MultinomialNB\n",
    "    from sklearn.metrics import roc_auc_score\n",
    "    \n",
    "    # построить векторную форму обучающего набора без слов < 3 симв.\n",
    "    vect = TfidfVectorizer(min_df=3).fit(X_train)\n",
    "    \n",
    "    # преобразовать обучающий набор в матрицу TfIdf\n",
    "    X_train_matrix = vect.transform(X_train)\n",
    "\n",
    "    # инициализировать мультиноминальный байесовский классификатор, c сглаживанием 0.1\n",
    "    clf = MultinomialNB(alpha=.1)\n",
    "    \n",
    "    # обучить модель\n",
    "    model = clf.fit(X_train_matrix, y_train)\n",
    "    \n",
    "    # преобразовать тестовый набор в матрицу TfIdf\n",
    "    X_test_matrix = vect.transform(X_test)\n",
    "    \n",
    "    # построить прогноз\n",
    "    predictions = model.predict(X_test_matrix)\n",
    "    \n",
    "    # оценить качество прогноза\n",
    "    score = roc_auc_score(y_test, predictions)\n",
    "    \n",
    "    return score"
   ]
  },
  {
   "cell_type": "code",
   "execution_count": 14,
   "metadata": {},
   "outputs": [
    {
     "data": {
      "text/plain": [
       "0.94162436548223349"
      ]
     },
     "execution_count": 14,
     "metadata": {},
     "output_type": "execute_result"
    }
   ],
   "source": [
    "answer_five()"
   ]
  },
  {
   "cell_type": "markdown",
   "metadata": {},
   "source": [
    "### Question 6\n",
    "\n",
    "What is the average length of documents (number of characters) for not spam and spam documents?\n",
    "\n",
    "*This function should return a tuple (average length not spam, average length spam).*"
   ]
  },
  {
   "cell_type": "code",
   "execution_count": 15,
   "metadata": {
    "collapsed": true
   },
   "outputs": [],
   "source": [
    "def answer_six():\n",
    "    \n",
    "    X_train_len_ham = [len(doc[0]) for doc in zip(spam_data.text, spam_data.target)\n",
    "                       if doc[1] == 0 ]\n",
    "    X_train_len_spam = [len(doc[0]) for doc in zip(spam_data.text, spam_data.target)\n",
    "                        if doc[1] == 1 ]\n",
    "    \n",
    "    return (sum(X_train_len_ham) / len(X_train_len_ham), \n",
    "            sum(X_train_len_spam) / len(X_train_len_spam))"
   ]
  },
  {
   "cell_type": "code",
   "execution_count": 16,
   "metadata": {},
   "outputs": [
    {
     "data": {
      "text/plain": [
       "(71.02362694300518, 138.8661311914324)"
      ]
     },
     "execution_count": 16,
     "metadata": {},
     "output_type": "execute_result"
    }
   ],
   "source": [
    "answer_six()"
   ]
  },
  {
   "cell_type": "markdown",
   "metadata": {},
   "source": [
    "<br>\n",
    "<br>\n",
    "The following function has been provided to help you combine new features into the training data:"
   ]
  },
  {
   "cell_type": "code",
   "execution_count": 17,
   "metadata": {
    "collapsed": true
   },
   "outputs": [],
   "source": [
    "def add_feature(X, feature_to_add):\n",
    "    \"\"\"\n",
    "    Returns sparse feature matrix with added feature.\n",
    "    feature_to_add can also be a list of features.\n",
    "    \"\"\"\n",
    "    from scipy.sparse import csr_matrix, hstack\n",
    "    return hstack([X, csr_matrix(feature_to_add).T], 'csr')"
   ]
  },
  {
   "cell_type": "markdown",
   "metadata": {},
   "source": [
    "### Question 7\n",
    "\n",
    "Fit and transform the training data X_train using a Tfidf Vectorizer ignoring terms that have a document frequency strictly lower than **5**.\n",
    "\n",
    "Using this document-term matrix and an additional feature, **the length of document (number of characters)**, fit a Support Vector Classification model with regularization `C=10000`. Then compute the area under the curve (AUC) score using the transformed test data.\n",
    "\n",
    "*This function should return the AUC score as a float.*"
   ]
  },
  {
   "cell_type": "code",
   "execution_count": 18,
   "metadata": {
    "collapsed": true
   },
   "outputs": [],
   "source": [
    "\n",
    "def answer_seven():\n",
    "    from sklearn.svm import SVC\n",
    "    from sklearn.feature_extraction.text import TfidfVectorizer\n",
    "    import numpy as np\n",
    "    from sklearn.metrics import roc_auc_score\n",
    "    \n",
    "    # create tf-object without terms len < 5\n",
    "    vect = TfidfVectorizer(min_df=5).fit(X_train)\n",
    "    \n",
    "    # create tfidf sparse matrix\n",
    "    X_train_matrix = vect.transform(X_train)\n",
    "    \n",
    "    # create new feature `doc length`\n",
    "    docs_len = [len(doc) for doc in X_train]\n",
    "    \n",
    "    # add new feature to train matrix\n",
    "    X_train_matrix = add_feature(X_train_matrix, docs_len)\n",
    "    \n",
    "    # create SVC classifier \n",
    "    clf = SVC(C=10000)\n",
    "    \n",
    "    # train model\n",
    "    model = clf.fit(X_train_matrix, y_train)\n",
    "\n",
    "    # prepare test set\n",
    "    X_test_matrix = vect.transform(X_test)\n",
    "    X_test_matrix = add_feature(X_test_matrix, [len(doc) for doc in X_test])\n",
    "    \n",
    "    # predict test set\n",
    "    predictions = model.predict(X_test_matrix)\n",
    "    \n",
    "    # calculate auc score\n",
    "    score = roc_auc_score(y_test, predictions)\n",
    "\n",
    "    return score"
   ]
  },
  {
   "cell_type": "code",
   "execution_count": 19,
   "metadata": {},
   "outputs": [
    {
     "data": {
      "text/plain": [
       "0.95813668234215565"
      ]
     },
     "execution_count": 19,
     "metadata": {},
     "output_type": "execute_result"
    }
   ],
   "source": [
    "answer_seven()"
   ]
  },
  {
   "cell_type": "markdown",
   "metadata": {},
   "source": [
    "### Question 8\n",
    "\n",
    "What is the average number of digits per document for not spam and spam documents?\n",
    "\n",
    "*This function should return a tuple (average # digits not spam, average # digits spam).*"
   ]
  },
  {
   "cell_type": "code",
   "execution_count": 20,
   "metadata": {
    "collapsed": true
   },
   "outputs": [],
   "source": [
    "def answer_eight():\n",
    "    \n",
    "    import re\n",
    "    \n",
    "    # create pattern\n",
    "    pat = '\\d'\n",
    "    \n",
    "    # convert dataframe to list of tuples\n",
    "    spam_data_tuple = [row for row in zip(spam_data['text'],\n",
    "                                      spam_data['target'])]\n",
    "    \n",
    "    # create list of number of digits per `text` for not spam & spam\n",
    "    not_spam_dig = [len(re.findall(pat, ' ' + item[0] + ' ')) for\n",
    "               item in spam_data_tuple if\n",
    "               item[1] == 0]\n",
    "    spam_dig = [len(re.findall(pat, ' ' + item[0] + ' ')) for\n",
    "               item in spam_data_tuple if\n",
    "               item[1] == 1]\n",
    "    \n",
    "    result = (sum(not_spam_dig) / len(not_spam_dig),\n",
    "              sum(spam_dig)  / len (spam_dig))\n",
    "    \n",
    "    return result"
   ]
  },
  {
   "cell_type": "code",
   "execution_count": 21,
   "metadata": {},
   "outputs": [
    {
     "data": {
      "text/plain": [
       "(0.2992746113989637, 15.759036144578314)"
      ]
     },
     "execution_count": 21,
     "metadata": {},
     "output_type": "execute_result"
    }
   ],
   "source": [
    "answer_eight()"
   ]
  },
  {
   "cell_type": "markdown",
   "metadata": {},
   "source": [
    "### Question 9\n",
    "\n",
    "Fit and transform the training data `X_train` using a Tfidf Vectorizer ignoring terms that have a document frequency strictly lower than **5** and using **word n-grams from n=1 to n=3** (unigrams, bigrams, and trigrams).\n",
    "\n",
    "Using this document-term matrix and the following additional features:\n",
    "* the length of document (number of characters)\n",
    "* **number of digits per document**\n",
    "\n",
    "fit a Logistic Regression model with regularization `C=100`. Then compute the area under the curve (AUC) score using the transformed test data.\n",
    "\n",
    "*This function should return the AUC score as a float.*"
   ]
  },
  {
   "cell_type": "code",
   "execution_count": 22,
   "metadata": {
    "collapsed": true
   },
   "outputs": [],
   "source": [
    "def answer_nine():\n",
    "    \n",
    "    from sklearn.feature_extraction.text import TfidfVectorizer\n",
    "    import numpy as np\n",
    "    from sklearn.metrics import roc_auc_score\n",
    "    from sklearn.linear_model import LogisticRegression\n",
    "    import re\n",
    "    \n",
    "    def create_matrix(data_set):\n",
    "        \"\"\"преобразует `bag_of_words` в матрицу c дополнительными признаками\"\"\"\n",
    "        \n",
    "        data_set_matrix = vect.transform(data_set)\n",
    "        docs_len = [len(doc) for doc in data_set]\n",
    "        dig_len = [len(re.findall('\\d', ' ' + doc + ' ')) for doc in data_set ]\n",
    "        data_set_matrix = add_feature(data_set_matrix, [docs_len, dig_len])\n",
    "        \n",
    "        return data_set_matrix\n",
    "\n",
    "\n",
    "    # создать из обучающего и тестового наборов tdfif - матрицы + доп.признаки\n",
    "    vect = TfidfVectorizer(min_df=5, ngram_range=(1,3)).fit(X_train)\n",
    "    X_train_matrix = create_matrix(X_train)\n",
    "    X_test_matrix = create_matrix(X_test)\n",
    "    \n",
    "    # инициализировать логит-классифиактор с регуляризатором 100\n",
    "    clf = LogisticRegression(C=100)\n",
    "    \n",
    "    # обучить модель\n",
    "    model = clf.fit(X_train_matrix, y_train)\n",
    "    \n",
    "    # подсчитать предсказания на тестовом наборе\n",
    "    predictions = clf.predict(X_test_matrix)\n",
    "    \n",
    "    # оценить качестово по auc\n",
    "    score = roc_auc_score(y_test, predictions)    \n",
    "        \n",
    "    return score"
   ]
  },
  {
   "cell_type": "code",
   "execution_count": 23,
   "metadata": {},
   "outputs": [
    {
     "data": {
      "text/plain": [
       "0.96533283533945646"
      ]
     },
     "execution_count": 23,
     "metadata": {},
     "output_type": "execute_result"
    }
   ],
   "source": [
    "answer_nine()"
   ]
  },
  {
   "cell_type": "markdown",
   "metadata": {},
   "source": [
    "### Question 10\n",
    "\n",
    "What is the average number of non-word characters (anything other than a letter, digit or underscore) per document for not spam and spam documents?\n",
    "\n",
    "*Hint: Use `\\w` and `\\W` character classes*\n",
    "\n",
    "*This function should return a tuple (average # non-word characters not spam, average # non-word characters spam).*"
   ]
  },
  {
   "cell_type": "code",
   "execution_count": 24,
   "metadata": {
    "collapsed": true
   },
   "outputs": [],
   "source": [
    "def answer_ten():\n",
    "    \n",
    "    import numpy as np\n",
    "    import re\n",
    "    \n",
    "    spam_data['non_char_count'] = spam_data.apply(lambda x: len(re.findall('\\W', x['text'])), axis=1)\n",
    "\n",
    "    ham_avg = np.mean(spam_data[spam_data['target'] == 0]['non_char_count'])\n",
    "    spam_avg = np.mean(spam_data[spam_data['target'] == 1]['non_char_count'])\n",
    "\n",
    "    \n",
    "    return (ham_avg, spam_avg)"
   ]
  },
  {
   "cell_type": "code",
   "execution_count": 25,
   "metadata": {},
   "outputs": [
    {
     "data": {
      "text/plain": [
       "(17.291813471502589, 29.041499330655956)"
      ]
     },
     "execution_count": 25,
     "metadata": {},
     "output_type": "execute_result"
    }
   ],
   "source": [
    "answer_ten()"
   ]
  },
  {
   "cell_type": "markdown",
   "metadata": {},
   "source": [
    "### Question 11\n",
    "\n",
    "Fit and transform the training data X_train using a Count Vectorizer ignoring terms that have a document frequency strictly lower than **5** and using **character n-grams from n=2 to n=5.**\n",
    "\n",
    "To tell Count Vectorizer to use character n-grams pass in `analyzer='char_wb'` which creates character n-grams only from text inside word boundaries. This should make the model more robust to spelling mistakes.\n",
    "\n",
    "Using this document-term matrix and the following additional features:\n",
    "* the length of document (number of characters)\n",
    "* number of digits per document\n",
    "* **number of non-word characters (anything other than a letter, digit or underscore.)**\n",
    "\n",
    "fit a Logistic Regression model with regularization C=100. Then compute the area under the curve (AUC) score using the transformed test data.\n",
    "\n",
    "Also **find the 10 smallest and 10 largest coefficients from the model** and return them along with the AUC score in a tuple.\n",
    "\n",
    "The list of 10 smallest coefficients should be sorted smallest first, the list of 10 largest coefficients should be sorted largest first.\n",
    "\n",
    "The three features that were added to the document term matrix should have the following names should they appear in the list of coefficients:\n",
    "['length_of_doc', 'digit_count', 'non_word_char_count']\n",
    "\n",
    "*This function should return a tuple `(AUC score as a float, smallest coefs list, largest coefs list)`.*"
   ]
  },
  {
   "cell_type": "code",
   "execution_count": 26,
   "metadata": {
    "collapsed": true
   },
   "outputs": [],
   "source": [
    "def answer_eleven():\n",
    "    \n",
    "    def convert2column(vect_row):\n",
    "        \"\"\" Конвертирует список(list) в вектор-столбец (len, 1)\"\"\"\n",
    "    \n",
    "        # преобразовать в вектор-столбец\n",
    "        return np.reshape(vect_row, (len(vect_row),1))\n",
    "\n",
    "    def get_length_of_doc(docs_set):\n",
    "        \"\"\" возвращает длину в символах документов из набора \n",
    "        docs_set в виде вектора-столбца\"\"\"\n",
    "    \n",
    "        # количество символов на док-т\n",
    "        length_of_doc = [len(doc) for doc in docs_set]\n",
    "    \n",
    "        return convert2column(length_of_doc) \n",
    "    \n",
    "    def get_non_word_char_count(docs_set):    \n",
    "        \"\"\" возвращает число спецсимволов  в документах из набора \n",
    "        docs_set в виде вектора-столбца\"\"\"\n",
    "\n",
    "        # число спецсимволов в док-те\n",
    "        non_word_char_count = [len(re.findall('\\W', doc)) for doc in docs_set]\n",
    "    \n",
    "        return convert2column(non_word_char_count)\n",
    "    \n",
    "    def get_digit_count(docs_set): \n",
    "        \"\"\" возвращает число цифр в документах из набора \n",
    "        docs_set в виде вектора-столбца\"\"\"\n",
    "\n",
    "        def count_digits(doc):\n",
    "            return len([dig for dig in doc if dig in '0123456789'])    \n",
    "\n",
    "        # число цифр в док-те\n",
    "        digit_count = [count_digits(doc) for doc in docs_set]\n",
    "\n",
    "        return convert2column(digit_count)\n",
    "\n",
    "    from sklearn.feature_extraction.text import CountVectorizer\n",
    "    import re\n",
    "    from scipy.sparse import hstack\n",
    "    from sklearn.linear_model import LogisticRegression\n",
    "    from sklearn.metrics import roc_auc_score\n",
    "    \n",
    "    # создать BoW\n",
    "    vect = CountVectorizer(min_df=5, ngram_range=(2,5),\n",
    "                        analyzer='char_wb').fit(X_train)\n",
    "    \n",
    "    X_train_matrix = vect.transform(X_train)\n",
    "    # добавить показатели в матрицу данных\n",
    "    X_train_matrix = hstack((X_train_matrix,\n",
    "                         get_length_of_doc(X_train), get_digit_count(X_train),\n",
    "                         get_non_word_char_count(X_train)))\n",
    "    \n",
    "    X_test_matrix = vect.transform(X_test)\n",
    "    # добавить показатели в матрицу данных\n",
    "    X_test_matrix = hstack((X_test_matrix,\n",
    "                         get_length_of_doc(X_test), get_digit_count(X_test),\n",
    "                         get_non_word_char_count(X_test)))\n",
    "    \n",
    "    # построить модель\n",
    "    clf = LogisticRegression(C=100)\n",
    "    model = clf.fit(X_train_matrix, y_train)\n",
    "    \n",
    "    predictions = model.predict(X_test_matrix)\n",
    "    \n",
    "    score = roc_auc_score(y_test, predictions) \n",
    "    coef = model.coef_[0]\n",
    "    \n",
    "    # добавить имена новых показателей\n",
    "    feature_names = vect.get_feature_names()\n",
    "    feature_names = feature_names + \\\n",
    "                    ['length_of_doc', 'digit_count', 'non_word_char_count']\n",
    "    \n",
    "    name_coef = [(_name, _coef) for _name, _coef in zip(feature_names, coef)]\n",
    "    name_coef = sorted(name_coef, key=lambda x: x[1], reverse=True)\n",
    "    \n",
    "    largest = name_coef[:10]\n",
    "    \n",
    "    smallest = name_coef[-10:]\n",
    "    smallest = sorted(smallest, key=lambda x: x[1])\n",
    "    \n",
    "    return (score, smallest, largest )"
   ]
  },
  {
   "cell_type": "code",
   "execution_count": 27,
   "metadata": {},
   "outputs": [
    {
     "data": {
      "text/plain": [
       "(0.97885931107074342,\n",
       " [('. ', -0.86975346259415875),\n",
       "  ('..', -0.86088296352174276),\n",
       "  ('? ', -0.67698172297661741),\n",
       "  (' i', -0.66700363899346971),\n",
       "  (' y', -0.61490070391470086),\n",
       "  (' go', -0.57958954863764711),\n",
       "  (':)', -0.53507444581451002),\n",
       "  (' h', -0.50576580840067331),\n",
       "  ('go', -0.49850657095575379),\n",
       "  (' m', -0.49096047527002135)],\n",
       " [('digit_count', 1.2122304448365826),\n",
       "  ('ne', 0.59777832370761941),\n",
       "  ('ia', 0.54148300240059377),\n",
       "  ('co', 0.53876611978762901),\n",
       "  ('xt', 0.52148696634166225),\n",
       "  (' ch', 0.52035142621300001),\n",
       "  ('mob', 0.51786804549367671),\n",
       "  (' x', 0.51609606976459066),\n",
       "  ('ww', 0.50867081207580411),\n",
       "  ('ar', 0.50264408611612776)])"
      ]
     },
     "execution_count": 27,
     "metadata": {},
     "output_type": "execute_result"
    }
   ],
   "source": [
    "answer_eleven()"
   ]
  },
  {
   "cell_type": "code",
   "execution_count": null,
   "metadata": {
    "collapsed": true
   },
   "outputs": [],
   "source": []
  }
 ],
 "metadata": {
  "coursera": {
   "course_slug": "python-text-mining",
   "graded_item_id": "Pn19K",
   "launcher_item_id": "y1juS",
   "part_id": "ctlgo"
  },
  "kernelspec": {
   "display_name": "Python 3",
   "language": "python",
   "name": "python3"
  },
  "language_info": {
   "codemirror_mode": {
    "name": "ipython",
    "version": 3
   },
   "file_extension": ".py",
   "mimetype": "text/x-python",
   "name": "python",
   "nbconvert_exporter": "python",
   "pygments_lexer": "ipython3",
   "version": "3.6.2"
  }
 },
 "nbformat": 4,
 "nbformat_minor": 2
}
